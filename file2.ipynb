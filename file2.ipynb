{
 "cells": [
  {
   "cell_type": "code",
   "execution_count": null,
   "source": [
    "import pandas as pd\r\n",
    "import numpy as np\r\n",
    "def correlation (attribute1 , fileName1 , attribute2, fileName2):\r\n",
    "#this is a change"
   ],
   "outputs": [],
   "metadata": {}
  }
 ],
 "metadata": {
  "kernelspec": {
   "display_name": "Python 3.7.1 64-bit ('base': conda)",
   "name": "python371jvsc74a57bd0882fec91cf07fee396b73364fc859ebb8dc5ac773d375c962dee14d57565dd88"
  },
  "language_info": {
   "name": "python",
   "version": ""
  },
  "orig_nbformat": 2
 },
 "nbformat": 4,
 "nbformat_minor": 2
}